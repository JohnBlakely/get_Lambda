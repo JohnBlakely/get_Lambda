{
 "cells": [
  {
   "cell_type": "code",
   "execution_count": 3,
   "id": "34556e05",
   "metadata": {},
   "outputs": [
    {
     "name": "stderr",
     "output_type": "stream",
     "text": [
      "WARNING: replacing module Recfast.\n"
     ]
    }
   ],
   "source": [
    "include(\"../src/recfast.jl\")\n",
    "using .Recfast"
   ]
  },
  {
   "cell_type": "code",
   "execution_count": 12,
   "id": "15c4f8a5",
   "metadata": {
    "scrolled": false
   },
   "outputs": [
    {
     "data": {
      "text/plain": [
       "(::Main.Recfast.var\"#mySol#16\"{Vector{StaticArraysCore.SVector{7, Float64}}, Vector{Float64}, SciMLBase.ODESolution{Float64, 2, Vector{StaticArraysCore.SVector{7, Float64}}, Nothing, Nothing, Vector{Float64}, Vector{Vector{StaticArraysCore.SVector{7, Float64}}}, SciMLBase.ODEProblem{StaticArraysCore.SVector{7, Float64}, Tuple{Float64, Float64}, false, SciMLBase.NullParameters, SciMLBase.ODEFunction{false, SciMLBase.AutoSpecialize, Main.Recfast.var\"#evalODE#12\"{Params}, LinearAlgebra.UniformScaling{Bool}, Nothing, Nothing, Nothing, Nothing, Nothing, Nothing, Nothing, Nothing, Nothing, Nothing, Nothing, Nothing, Nothing, Nothing, typeof(SciMLBase.DEFAULT_OBSERVED), Nothing, Nothing}, Base.Pairs{Symbol, Union{}, Tuple{}, NamedTuple{(), Tuple{}}}, SciMLBase.StandardODEProblem}, OrdinaryDiffEq.CompositeAlgorithm{Tuple{OrdinaryDiffEq.Rodas4P2{7, true, LinearSolve.DefaultLinearSolver, typeof(OrdinaryDiffEq.DEFAULT_PRECS), Val{:forward}, true, nothing}, OrdinaryDiffEq.Rodas5{1, false, LinearSolve.DefaultLinearSolver, typeof(OrdinaryDiffEq.DEFAULT_PRECS), Val{:forward}, true, nothing}}, Main.Recfast.var\"#cf#13\"{Params}}, OrdinaryDiffEq.CompositeInterpolationData{SciMLBase.ODEFunction{false, SciMLBase.AutoSpecialize, Main.Recfast.var\"#evalODE#12\"{Params}, LinearAlgebra.UniformScaling{Bool}, Nothing, Nothing, Nothing, Nothing, Nothing, Nothing, Nothing, Nothing, Nothing, Nothing, Nothing, Nothing, Nothing, Nothing, typeof(SciMLBase.DEFAULT_OBSERVED), Nothing, Nothing}, Vector{StaticArraysCore.SVector{7, Float64}}, Vector{Float64}, Vector{Vector{StaticArraysCore.SVector{7, Float64}}}, OrdinaryDiffEq.CompositeCache{Tuple{OrdinaryDiffEq.Rodas4ConstantCache{SciMLBase.TimeDerivativeWrapper{SciMLBase.ODEFunction{false, SciMLBase.AutoSpecialize, Main.Recfast.var\"#evalODE#12\"{Params}, LinearAlgebra.UniformScaling{Bool}, Nothing, Nothing, Nothing, Nothing, Nothing, Nothing, Nothing, Nothing, Nothing, Nothing, Nothing, Nothing, Nothing, Nothing, typeof(SciMLBase.DEFAULT_OBSERVED), Nothing, Nothing}, StaticArraysCore.SVector{7, Float64}, SciMLBase.NullParameters}, SciMLBase.UDerivativeWrapper{SciMLBase.ODEFunction{false, SciMLBase.AutoSpecialize, Main.Recfast.var\"#evalODE#12\"{Params}, LinearAlgebra.UniformScaling{Bool}, Nothing, Nothing, Nothing, Nothing, Nothing, Nothing, Nothing, Nothing, Nothing, Nothing, Nothing, Nothing, Nothing, Nothing, typeof(SciMLBase.DEFAULT_OBSERVED), Nothing, Nothing}, Float64, SciMLBase.NullParameters}, OrdinaryDiffEq.RodasTableau{Float64, Float64}, StaticArraysCore.SMatrix{7, 7, Float64, 49}, OrdinaryDiffEq.StaticWOperator{true, StaticArraysCore.SMatrix{7, 7, Float64, 49}}, Nothing, ADTypes.AutoForwardDiff{nothing, Nothing}}, OrdinaryDiffEq.Rosenbrock5ConstantCache{SciMLBase.TimeDerivativeWrapper{SciMLBase.ODEFunction{false, SciMLBase.AutoSpecialize, Main.Recfast.var\"#evalODE#12\"{Params}, LinearAlgebra.UniformScaling{Bool}, Nothing, Nothing, Nothing, Nothing, Nothing, Nothing, Nothing, Nothing, Nothing, Nothing, Nothing, Nothing, Nothing, Nothing, typeof(SciMLBase.DEFAULT_OBSERVED), Nothing, Nothing}, StaticArraysCore.SVector{7, Float64}, SciMLBase.NullParameters}, SciMLBase.UDerivativeWrapper{SciMLBase.ODEFunction{false, SciMLBase.AutoSpecialize, Main.Recfast.var\"#evalODE#12\"{Params}, LinearAlgebra.UniformScaling{Bool}, Nothing, Nothing, Nothing, Nothing, Nothing, Nothing, Nothing, Nothing, Nothing, Nothing, Nothing, Nothing, Nothing, Nothing, typeof(SciMLBase.DEFAULT_OBSERVED), Nothing, Nothing}, Float64, SciMLBase.NullParameters}, OrdinaryDiffEq.Rodas5Tableau{Float64, Float64}, StaticArraysCore.SMatrix{7, 7, Float64, 49}, OrdinaryDiffEq.StaticWOperator{true, StaticArraysCore.SMatrix{7, 7, Float64, 49}}, Nothing}}, Main.Recfast.var\"#cf#13\"{Params}}}, DiffEqBase.Stats, Vector{Int64}}}) (generic function with 1 method)"
      ]
     },
     "execution_count": 12,
     "metadata": {},
     "output_type": "execute_result"
    }
   ],
   "source": [
    "p = Params()\n",
    "sol = Evaluate_recombination_h2(p, logzstart = 4., logzend = 1., dt = 1e-10, dtmin = 1e-30, dtmax= 0.01)"
   ]
  },
  {
   "cell_type": "code",
   "execution_count": 19,
   "id": "186368b2",
   "metadata": {},
   "outputs": [
    {
     "data": {
      "text/plain": [
       "7-element StaticArraysCore.SVector{7, Float64} with indices SOneTo(7):\n",
       " 9.764509345557607e-14\n",
       " 0.0002167263848926728\n",
       " 2.683992504863494\n",
       " 3.737896486985234e-13\n",
       " 3.708431766510223e-17\n",
       " 2.3908178320802665e-6\n",
       " 3.3852349442501673e-22"
      ]
     },
     "execution_count": 19,
     "metadata": {},
     "output_type": "execute_result"
    }
   ],
   "source": [
    "sol.u[end]"
   ]
  },
  {
   "cell_type": "code",
   "execution_count": 2,
   "id": "23720220",
   "metadata": {},
   "outputs": [
    {
     "name": "stderr",
     "output_type": "stream",
     "text": [
      "\u001b[32m\u001b[1m   Resolving\u001b[22m\u001b[39m package versions...\n",
      "\u001b[32m\u001b[1m    Updating\u001b[22m\u001b[39m `/storage/work/jpb6799/julia_astro528/environments/v1.9/Project.toml`\n",
      "  \u001b[90m[1fd47b50] \u001b[39m\u001b[92m+ QuadGK v2.9.1\u001b[39m\n",
      "\u001b[32m\u001b[1m  No Changes\u001b[22m\u001b[39m to `/storage/work/jpb6799/julia_astro528/environments/v1.9/Manifest.toml`\n"
     ]
    }
   ],
   "source": [
    "#import Pkg; Pkg.add(\"StaticArrays\")\n",
    "#import Pkg; Pkg.add(\"DocStringExtensions\")\n",
    "#import Pkg; Pkg.add(\"Parameters\")\n",
    "#import Pkg; Pkg.add(\"DifferentialEquations\")\n",
    "import Pkg; Pkg.add(\"QuadGK\")"
   ]
  },
  {
   "cell_type": "code",
   "execution_count": 26,
   "id": "dbe9fd24",
   "metadata": {},
   "outputs": [],
   "source": [
    "Set_VFC_params!(p, mS= 0.1, mxS = 14, aS = 1.37)"
   ]
  },
  {
   "cell_type": "code",
   "execution_count": 33,
   "id": "01b41346",
   "metadata": {},
   "outputs": [
    {
     "data": {
      "text/plain": [
       "Params\n",
       "  Yp: Float64 0.24\n",
       "  T0: Float64 2.725\n",
       "  Omega_M: Float64 0.31\n",
       "  Omega_B: Float64 0.044\n",
       "  Omega_K: Float64 0.0\n",
       "  h100: Float64 0.6774\n",
       "  n_eff: Float64 3.04\n",
       "  F: Float64 1.14\n",
       "  rescaling: Main.Recfast.Variables_Fund_Consts\n",
       "  fHe: Float64 0.07951338564949938\n",
       "  H0: Float64 2.1953019921620198e-18\n",
       "  Omega_L: Float64 0.689908966093935\n",
       "  artificial: StaticArraysCore.SVector{17, Float64}\n"
      ]
     },
     "execution_count": 33,
     "metadata": {},
     "output_type": "execute_result"
    }
   ],
   "source": [
    "Params()"
   ]
  },
  {
   "cell_type": "code",
   "execution_count": null,
   "id": "623e843d",
   "metadata": {},
   "outputs": [],
   "source": []
  }
 ],
 "metadata": {
  "kernelspec": {
   "display_name": "Julia 1.9.2",
   "language": "julia",
   "name": "julia-1.9"
  },
  "language_info": {
   "file_extension": ".jl",
   "mimetype": "application/julia",
   "name": "julia",
   "version": "1.9.2"
  }
 },
 "nbformat": 4,
 "nbformat_minor": 5
}
